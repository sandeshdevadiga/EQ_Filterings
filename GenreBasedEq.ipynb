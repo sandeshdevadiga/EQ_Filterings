{
  "nbformat": 4,
  "nbformat_minor": 0,
  "metadata": {
    "colab": {
      "name": "Untitled1.ipynb",
      "provenance": [],
      "collapsed_sections": [],
      "toc_visible": true,
      "authorship_tag": "ABX9TyP85mchgwABdem9sxsUAe/l",
      "include_colab_link": true
    },
    "kernelspec": {
      "name": "python3",
      "display_name": "Python 3"
    }
  },
  "cells": [
    {
      "cell_type": "markdown",
      "metadata": {
        "id": "view-in-github",
        "colab_type": "text"
      },
      "source": [
        "<a href=\"https://colab.research.google.com/github/sandeshdevadiga/EQ_FiltersandAI/blob/main/GenreBasedEq.ipynb\" target=\"_parent\"><img src=\"https://colab.research.google.com/assets/colab-badge.svg\" alt=\"Open In Colab\"/></a>"
      ]
    },
    {
      "cell_type": "code",
      "metadata": {
        "colab": {
          "base_uri": "https://localhost:8080/"
        },
        "id": "KPx-jZT8mhnP",
        "outputId": "9aad6f4b-1f33-4961-8920-a8c25d345d41"
      },
      "source": [
        "from google.colab import drive\r\n",
        "drive.mount('/content/drive')"
      ],
      "execution_count": 6,
      "outputs": [
        {
          "output_type": "stream",
          "text": [
            "Drive already mounted at /content/drive; to attempt to forcibly remount, call drive.mount(\"/content/drive\", force_remount=True).\n"
          ],
          "name": "stdout"
        }
      ]
    },
    {
      "cell_type": "code",
      "metadata": {
        "id": "y6Bhe0Gom7xx"
      },
      "source": [
        "\r\n",
        "import numpy as np\r\n",
        "from sklearn import svm\r\n",
        "from sklearn.preprocessing import StandardScaler\r\n",
        "from sklearn.decomposition import PCA\r\n",
        "import librosa as lb "
      ],
      "execution_count": 3,
      "outputs": []
    },
    {
      "cell_type": "code",
      "metadata": {
        "colab": {
          "base_uri": "https://localhost:8080/"
        },
        "id": "7eOiEcL-nF3X",
        "outputId": "1451a49f-c28c-4e3f-9222-d6bb25916ffc"
      },
      "source": [
        "data = np.load('/content/drive/MyDrive/Melspectzdata/melspects.npz')\r\n",
        "SR = 22050\r\n",
        "N_FFT = 512\r\n",
        "HOP_LENGTH = N_FFT // 2\r\n",
        "N_MELS = 64 \r\n",
        "\r\n",
        "\r\n",
        "\r\n",
        "x_tr = data['x_tr']\r\n",
        "y_tr = data['y_tr']\r\n",
        "x_te = data['x_te']\r\n",
        "y_te = data['y_te']\r\n",
        "x_cv = data['x_cv']\r\n",
        "y_cv = data['y_cv']\r\n",
        "\r\n",
        "print('here1', x_tr.shape)\r\n",
        "\r\n",
        "x_tr = x_tr.reshape(x_tr.shape[0], x_tr.shape[1]*x_tr.shape[2])\r\n",
        "x_cv = x_cv.reshape(x_cv.shape[0], x_cv.shape[1]*x_cv.shape[2])\r\n",
        "x_te = x_te.reshape(x_te.shape[0], x_te.shape[1]*x_te.shape[2])\r\n",
        "print(\"what is the shape here\",x_tr.shape)\r\n",
        "scaler = StandardScaler()\r\n",
        "# Fit on training set only.\r\n",
        "scaler.fit(x_tr)\r\n",
        "# Apply transform to both the training set and the test set.\r\n",
        "train_sc = scaler.transform(x_tr)\r\n",
        "cv_sc = scaler.transform(x_cv)\r\n",
        "test_sc = scaler.transform(x_te)\r\n",
        "\r\n",
        "print('here2',test_sc.shape)\r\n",
        "\r\n",
        "pca = PCA(n_components = 15)\r\n",
        "pca.fit(train_sc)\r\n",
        "\r\n",
        "train_pca = train_sc\r\n",
        "cv_pca = cv_sc\r\n",
        "test_pca = test_sc\r\n",
        "print(\"here3\");\r\n",
        "print (\"shape after pca\",test_pca.shape);\r\n",
        "print(\"here3\");\r\n",
        "print(pca.n_components_)\r\n",
        "\r\n",
        "classifier = svm.SVC(gamma='scale', verbose=True)\r\n",
        "classifier.fit(train_pca, y_tr)\r\n",
        "\r\n",
        "# preds = classifier.predict(cv_pca)\r\n",
        "# acc = np.sum(preds == y_cv)\r\n",
        "# acc = acc / len(y_cv)\r\n",
        "# print('Accuracy is {}'.format(acc))\r\n",
        "# print(preds)\r\n",
        "\r\n",
        "train_preds = classifier.predict(train_pca)\r\n",
        "train_acc = np.sum(train_preds == y_tr)\r\n",
        "train_acc = train_acc / len(y_tr)\r\n",
        "\r\n",
        "cv_preds = classifier.predict(cv_pca)\r\n",
        "cv_acc = np.sum(cv_preds == y_cv)\r\n",
        "cv_acc = cv_acc / len(y_cv)\r\n",
        "\r\n",
        "test_preds = classifier.predict(test_pca)\r\n",
        "test_acc = np.sum(test_preds == y_te)\r\n",
        "test_acc = test_acc / len(y_te)\r\n",
        "scale_file = '/content/drive/MyDrive/Melspectzdata/debussy2ms.wav'\r\n",
        "scale, sr = lb.load(scale_file)\r\n",
        "\r\n",
        "#S_scale = librosa.stft(scale, n_fft=FRAME_SIZE, hop_length=HOP_SIZE)\r\n",
        "\r\n",
        "mel_spectrogram_TestSong = lb.feature.melspectrogram(scale, sr=SR, n_fft=N_FFT, hop_length=HOP_LENGTH, n_mels=N_MELS)\r\n",
        "#trained = scaler.transform(mel_spectrogram_TestSong)\r\n",
        "\r\n",
        "melspectrogram_TestSong=lb.power_to_db(mel_spectrogram_TestSong**2)\r\n",
        "melspectrogram_TestSong=melspectrogram_TestSong.reshape(1, melspectrogram_TestSong.shape[0]*melspectrogram_TestSong.shape [1]);\r\n",
        "\r\n",
        "print(\"Shape that i pass to predicter\",melspectrogram_TestSong.shape);                                \r\n",
        "scaler1 = StandardScaler()\r\n",
        "scaler1.fit(melspectrogram_TestSong)\r\n",
        "melspectrogram_TestSong = scaler1.transform(melspectrogram_TestSong)\r\n",
        "\r\n",
        "#pca2 = PCA(n_components = 1)\r\n",
        "#pca2.fit(melspectrogram_TestSong)\r\n",
        "#mel_spectrogram_TestSong = pca2.transform(melspectrogram_TestSong)\r\n",
        "\r\n",
        "print(\"after pca\",melspectrogram_TestSong.shape);\r\n",
        "\r\n",
        "melspectrogram_TestSong.shape;\r\n",
        "#melspectrogram_TestSong=melspectrogram_TestSong[:,1:15]\r\n",
        "test_preds = classifier.predict(melspectrogram_TestSong)\r\n",
        "print (test_preds);\r\n"
      ],
      "execution_count": 12,
      "outputs": [
        {
          "output_type": "stream",
          "text": [
            "here1 (8000, 64, 173)\n",
            "what is the shape here (8000, 11072)\n",
            "here2 (100, 11072)\n",
            "here3\n",
            "shape after pca (100, 11072)\n",
            "here3\n",
            "15\n",
            "[LibSVM]Shape that i pass to predicter (1, 11072)\n",
            "after pca (1, 11072)\n",
            "[3.]\n"
          ],
          "name": "stdout"
        }
      ]
    }
  ]
}